{
 "cells": [
  {
   "cell_type": "markdown",
   "metadata": {},
   "source": [
    "# Part 2: Automatic differentiation"
   ]
  },
  {
   "cell_type": "code",
   "execution_count": 79,
   "metadata": {},
   "outputs": [],
   "source": [
    "import numpy as np\n",
    "import random\n",
    "np.random.seed(seed=42) # to have same results each time\n",
    "import matplotlib.pyplot as plt\n",
    "\n",
    "\n",
    "import importlib\n",
    "import useful_functions\n",
    "importlib.reload(useful_functions)\n",
    "from useful_functions import generate_dataset"
   ]
  },
  {
   "cell_type": "markdown",
   "metadata": {},
   "source": [
    "### Question 1: implement the relu function and its VJP in the format above. Using the finite difference equation (slide 13), make sure that the VJP is correct numerically."
   ]
  },
  {
   "cell_type": "code",
   "execution_count": 80,
   "metadata": {},
   "outputs": [],
   "source": [
    "def relu(x):\n",
    "  \"\"\"\n",
    "  Args:\n",
    "    x: an array\n",
    "\n",
    "  Returns:\n",
    "    - value of the function ReLU(x) \n",
    "    - function vjp to easily compute vjp of ReLU\n",
    "  \"\"\"\n",
    "  value = np.maximum(x,0) #by defintion of the ReLU function \n",
    "  \n",
    "  def vjp(u):\n",
    "    relu_derivative = (x > 0) * 1 #by definition of the derivative and ReLU function \n",
    "    vjp_wrt_x = np.multiply(u,relu_derivative) #using slides 27 of the course\n",
    "    return vjp_wrt_x,  \n",
    "\n",
    "  return value, vjp"
   ]
  },
  {
   "cell_type": "markdown",
   "metadata": {},
   "source": [
    "Now, we will create some functions to numerically check if the function defined above (and others ones later) are correct."
   ]
  },
  {
   "cell_type": "code",
   "execution_count": 81,
   "metadata": {},
   "outputs": [],
   "source": [
    "def test_vjp(f, x, u, eps=1e-3):\n",
    "  \"\"\"\n",
    "  Args:\n",
    "    f: a function returning a tuple of size 2: array and vjp\n",
    "    x: an array of size n \n",
    "    eps: numerical value (very small)\n",
    "    u: an array of size m \n",
    "\n",
    "  Returns:\n",
    "    numerical_vjp\n",
    "  \"\"\"\n",
    "  \n",
    "  def e(i): # to define each direction in the space\n",
    "    basis_vector = np.zeros(len(x))\n",
    "    basis_vector[i] = 1\n",
    "    return basis_vector\n",
    "  \n",
    "  Jacobian = np.zeros((len(f(x)[0]),len(x)))\n",
    "  for i in range (len(x)):\n",
    "    Jacobian[:,i] = (f(x + eps * e(i))[0] - f(x)[0]) / eps #finite difference\n",
    "  \n",
    "  return np.dot(Jacobian.T,u)\n",
    "\n"
   ]
  },
  {
   "cell_type": "markdown",
   "metadata": {},
   "source": [
    "We then test our implemented function"
   ]
  },
  {
   "cell_type": "code",
   "execution_count": 82,
   "metadata": {},
   "outputs": [
    {
     "name": "stdout",
     "output_type": "stream",
     "text": [
      "The numeric method gives for the VJP:\n",
      "[ 0.          0.          0.          0.          0.          0.\n",
      "  0.          0.          0.          0.          0.          0.\n",
      "  0.          0.          0.          0.          0.          0.\n",
      "  0.          0.         -1.41025641 -1.23076923 -1.05128205 -0.87179487\n",
      " -0.69230769 -0.51282051 -0.33333333 -0.15384615  0.02564103  0.20512821\n",
      "  0.38461538  0.56410256  0.74358974  0.92307692  1.1025641   1.28205128\n",
      "  1.46153846  1.64102564  1.82051282  2.        ]\n"
     ]
    }
   ],
   "source": [
    "# we define some values for x and u, they must same dimension because for ReLU space of inputs and outputs are the same\n",
    "x = np.linspace(start = -2, stop = 2, num = 40)\n",
    "u = np.linspace(start = -5, stop = 2, num = 40)\n",
    "\n",
    "implemented_vjp = relu(x)[1](u)[0]\n",
    "relu_numerical_vjp = test_vjp(relu, x, u, eps=1e-3)\n",
    "\n",
    "print(\"The numeric method gives for the VJP:\")\n",
    "print(relu_numerical_vjp)\n"
   ]
  },
  {
   "cell_type": "code",
   "execution_count": 83,
   "metadata": {},
   "outputs": [
    {
     "name": "stdout",
     "output_type": "stream",
     "text": [
      "The implemented method gives for the VJP:\n",
      "[-0.         -0.         -0.         -0.         -0.         -0.\n",
      " -0.         -0.         -0.         -0.         -0.         -0.\n",
      " -0.         -0.         -0.         -0.         -0.         -0.\n",
      " -0.         -0.         -1.41025641 -1.23076923 -1.05128205 -0.87179487\n",
      " -0.69230769 -0.51282051 -0.33333333 -0.15384615  0.02564103  0.20512821\n",
      "  0.38461538  0.56410256  0.74358974  0.92307692  1.1025641   1.28205128\n",
      "  1.46153846  1.64102564  1.82051282  2.        ]\n"
     ]
    }
   ],
   "source": [
    "print(\"The implemented method gives for the VJP:\")\n",
    "print(implemented_vjp)"
   ]
  },
  {
   "cell_type": "markdown",
   "metadata": {},
   "source": [
    "The two methods give the same results indeed."
   ]
  },
  {
   "cell_type": "markdown",
   "metadata": {},
   "source": [
    "### Question 2: reusing dot and relu, implement a 2-layer MLP with a relu activation\n"
   ]
  },
  {
   "cell_type": "code",
   "execution_count": 84,
   "metadata": {},
   "outputs": [],
   "source": [
    "#we import dot from the google doc\n",
    "def dot(W, x):\n",
    "  \"\"\"\n",
    "  Args:\n",
    "    W: an a matrix of shape (n1,n)\n",
    "    x: an array of shape n \n",
    "\n",
    "  Returns:\n",
    "    - value of the function dot(W,x) \n",
    "    - function vjp to easily compute vjp of the dot product\n",
    "  \"\"\"\n",
    "  value = np.dot(W, x)\n",
    "\n",
    "  def vjp(u):\n",
    "    return np.outer(u, x), np.dot(W.T,u)\n",
    "\n",
    "  return value, vjp"
   ]
  },
  {
   "cell_type": "code",
   "execution_count": 85,
   "metadata": {},
   "outputs": [],
   "source": [
    "def mlp2(x, W1, W2):\n",
    "    \"\"\"\n",
    "    This function defines a MLP-2 architecture with ReLU function activation\n",
    "\n",
    "    Args:\n",
    "        x: an array of shape n \n",
    "        W1: an a matrix of shape (n1,n)\n",
    "        W2: an a matrix of shape (1,n1)\n",
    "\n",
    "    Returns:\n",
    "        - value of the function mlp2(x, W1, W2)\n",
    "        - function vjp to easily compute vjp of mlp2 archietcture \n",
    "    \"\"\"\n",
    "\n",
    "    x1 = dot(W1,x)[0] #1st linear layer \n",
    "    x2 = relu(x1)[0] #ReLU activation \n",
    "    x3 = dot(W2,x2)[0] #2nd linear layer\n",
    "    value = x3\n",
    "\n",
    "    def vjp(u):\n",
    "        \n",
    "        vjp_jacobian_dot_W2 = dot(W2,x2)[1](u) \n",
    "        vjp_wrt_W2 = vjp_jacobian_dot_W2[0] # we keep the 1st vjp, with respect to W2\n",
    "\n",
    "        vjp_jacobian_dot_W2_wrt_x2 = vjp_jacobian_dot_W2[1] # we keep the 2nd vjp, with respect to x2\n",
    "        vjp_jacobian_relu_wrt_x1 = relu(x1)[1](vjp_jacobian_dot_W2_wrt_x2)[0]\n",
    "\n",
    "        vjp_jacobian_dot_W1 =  dot(W1,x)[1](vjp_jacobian_relu_wrt_x1) \n",
    "        vjp_wrt_W1 = vjp_jacobian_dot_W1[0] # we keep the 1st vjp, with respect to W1\n",
    "        vjp_wrt_x = vjp_jacobian_dot_W1[1] # we keep the 2nd vjp, with respect to x\n",
    "        \n",
    "        return vjp_wrt_x,vjp_wrt_W1, vjp_wrt_W2\n",
    "\n",
    "    return value, vjp"
   ]
  },
  {
   "cell_type": "markdown",
   "metadata": {},
   "source": [
    "### Question 3: implement the squared loss VJP"
   ]
  },
  {
   "cell_type": "code",
   "execution_count": 86,
   "metadata": {},
   "outputs": [],
   "source": [
    "def squared_loss(y_pred, y):\n",
    "    \"\"\"\n",
    "    This function defines squared-loss between 2 vectors\n",
    "\n",
    "    Args:\n",
    "        y_pred: a scalar\n",
    "        y: a scalar \n",
    "        \n",
    "    Returns:\n",
    "        - value of the function squared_loss(y_pred, y)\n",
    "        - function vjp to easily compute vjp of the squared loss\n",
    "    \"\"\"\n",
    "\n",
    "    residual = y_pred - y\n",
    "    value = 0.5 * np.sum(residual ** 2)\n",
    "\n",
    "    def vjp(u):\n",
    "        vjp_y_pred = np.multiply(residual,u)\n",
    "        vjp_y = -np.multiply(residual,u)\n",
    "        return vjp_y_pred, vjp_y\n",
    "    \n",
    "    # The code requires every output to be an array.\n",
    "    return np.array([value]), vjp"
   ]
  },
  {
   "cell_type": "markdown",
   "metadata": {},
   "source": [
    "### Question 4: implement the loss by composing mlp2 and squared_loss\n"
   ]
  },
  {
   "cell_type": "code",
   "execution_count": 87,
   "metadata": {},
   "outputs": [],
   "source": [
    "def loss(x, y, W1, W2):\n",
    "    \"\"\"\n",
    "    This function defines the loss, by combining previous function squared_loss and mlp2\n",
    "\n",
    "    Args:\n",
    "        x: an array of shape n \n",
    "        y: an array of shape n \n",
    "        W1: an a matrix of shape (n1,n)\n",
    "        W2: an a matrix of shape (1,n1)\n",
    "        \n",
    "    Returns:\n",
    "        - value of the function loss(x, y, W1, W2)\n",
    "        - function vjp to easily compute vjp of the loss\n",
    "    \"\"\"\n",
    "\n",
    "    y_pred = mlp2(x, W1, W2)[0]\n",
    "    value = squared_loss(y_pred, y)[0]\n",
    "\n",
    "    def vjp(u):\n",
    "        \n",
    "        vjp_squared_loss = squared_loss(y_pred, y)[1](u)\n",
    "        vjp_wrt_y = vjp_squared_loss[1] # we keep the vjp with respect to y \n",
    "\n",
    "        vjp_mlp2 = mlp2(x, W1, W2)[1](vjp_squared_loss[0])\n",
    "\n",
    "        vjp_wrt_W2 = vjp_mlp2[2] # we keep the vjp with respect to W2\n",
    "        vjp_wrt_W1 = vjp_mlp2[1] # we keep the vjp with respect to W1\n",
    "        vjp_wrt_x = vjp_mlp2[0] # we keep the vjp with respect to Wx\n",
    "        \n",
    "        return vjp_wrt_x, vjp_wrt_y, vjp_wrt_W1, vjp_wrt_W2\n",
    "\n",
    "    return value, vjp"
   ]
  },
  {
   "cell_type": "markdown",
   "metadata": {},
   "source": [
    "Now let's numerically test our architecture"
   ]
  },
  {
   "cell_type": "code",
   "execution_count": 88,
   "metadata": {},
   "outputs": [],
   "source": [
    "#check the gradient for x coordinate \n",
    "\n",
    "def test_architecture_vjp(f,x,y,W1,W2,u, eps=1e-3): \n",
    "\n",
    "    \"\"\"\n",
    "    Args:\n",
    "        f: a function returning a tuple of size 2: array and vjp\n",
    "        x: an array of size n \n",
    "        eps: numerical value (very small)\n",
    "        u: an array of size m \n",
    "\n",
    "    Returns:\n",
    "        numerical_vjp\n",
    "\n",
    "    \"\"\"\n",
    "    \n",
    "    def e(i): # to define each direction in the space\n",
    "        basis_vector = np.zeros(len(x))\n",
    "        basis_vector[i] = 1\n",
    "        return basis_vector\n",
    "  \n",
    "    Jacobian = np.zeros((len(f(x,y,W1,W2)[0]),len(x)))\n",
    "    for i in range (len(x)):\n",
    "        Jacobian[:,i] = (f(x + eps * e(i),y,W1,W2)[0] - f(x,y,W1,W2)[0]) / eps #finite difference\n",
    "  \n",
    "    return np.dot(Jacobian.T,u) \n",
    "    "
   ]
  },
  {
   "cell_type": "code",
   "execution_count": 89,
   "metadata": {},
   "outputs": [
    {
     "name": "stdout",
     "output_type": "stream",
     "text": [
      "The numeric method gives for the VJP:\n",
      "[16.04505928  9.91200029  5.58862923  4.74737583 12.21629471 13.86878034\n",
      " 12.30645815  7.59373855 11.96999804  9.19819874  7.38265823 11.13201473\n",
      "  8.60483474 17.65606679  7.53824422 13.24675525 11.19865447 10.18888991\n",
      "  8.32207167  9.29397093  7.73841677 13.31167587 13.22816866 11.3341041\n",
      "  7.63295551 13.95047329 13.93247314  6.50169319  4.40605946  9.02690877\n",
      " 10.16465822 15.82647781 14.90742599 14.32600886 11.50377891 16.81575735\n",
      " 13.76914738 16.01980159 15.46865053 14.18225387]\n"
     ]
    }
   ],
   "source": [
    "# we define some values for x and u, they must same dimension because for ReLU space of inputs and outputs are the same\n",
    "m = 5 #size \n",
    "k = 10 #size of the ouput vector for the MLP\n",
    "\n",
    "x = np.linspace(start = -2, stop = 2, num = 40) #size of the input vector\n",
    "y = np.linspace(start = -2, stop = 2, num = k) #size of the output vector\n",
    "u = np.random.rand(1) #size 1 for vjp because f will output a scalar\n",
    "\n",
    "W1 = np.random.rand(m,len(x))\n",
    "W2 = np.random.rand(k,m)\n",
    "\n",
    "relu_numerical_vjp = test_architecture_vjp(loss,x,y,W1,W2,u, eps=1e-3)\n",
    "implemented_vjp = loss(x, y, W1, W2)[1](u)[0]\n",
    "\n",
    "print(\"The numeric method gives for the VJP:\")\n",
    "print(relu_numerical_vjp)"
   ]
  },
  {
   "cell_type": "code",
   "execution_count": 90,
   "metadata": {},
   "outputs": [
    {
     "name": "stdout",
     "output_type": "stream",
     "text": [
      "The implemented method gives for the VJP:\n",
      "[16.04259184  9.91108597  5.5883257   4.74714672 12.21490809 13.86684627\n",
      " 12.30487919  7.59311114 11.96865213  9.19741378  7.38206557 11.13082566\n",
      "  8.60410097 17.6530607   7.53767522 13.24511224 11.19743421 10.1879015\n",
      "  8.32130853  9.29309954  7.73779845 13.31003075 13.22653151 11.33281267\n",
      "  7.6323905  13.94866386 13.93061635  6.50128786  4.40587776  9.02601196\n",
      " 10.16367308 15.82409896 14.90530978 14.32393694 11.502476   16.81307263\n",
      " 13.7673902  16.01737479 15.46640677 14.18034267]\n"
     ]
    }
   ],
   "source": [
    "print(\"The implemented method gives for the VJP:\")\n",
    "print(implemented_vjp)"
   ]
  },
  {
   "cell_type": "markdown",
   "metadata": {},
   "source": [
    "2 methods are really close but don't give exactly same results (this is because of numerical approximations)."
   ]
  },
  {
   "cell_type": "markdown",
   "metadata": {},
   "source": [
    "### Question 5: implement an MLP with an arbitrary number of layers.\n"
   ]
  },
  {
   "cell_type": "code",
   "execution_count": null,
   "metadata": {},
   "outputs": [],
   "source": [
    "def mlp(x, *args):\n",
    "    \"\"\"\n",
    "    This function defines a MLP architecure with ReLU function activation\n",
    "\n",
    "    Args:\n",
    "        x: an array of shape n \n",
    "        *args: matrix of each layer. ATTENTION: dimension should match for dot product\n",
    "\n",
    "    Returns:\n",
    "        - value of the function mlp(x, *args)\n",
    "        - function vjp to easily compute vjp of mlp archietcture \n",
    "    \"\"\"\n",
    "    n_layers = len(args)\n",
    "    hidden_x = [] #store intermediate values along forward pass\n",
    "    input = x \n",
    "    \n",
    "    for layer in range(n_layers-1):\n",
    "        x_current_layer =  [0,0] \n",
    "\n",
    "        x = dot(args[layer],x)[0] #linear layer\n",
    "        x_current_layer[0] = x\n",
    "        \n",
    "        x = relu(x)[0] #ReLU activation \n",
    "        x_current_layer[1] = x\n",
    "        \n",
    "        hidden_x.append(x_current_layer) #store value both after linear transfo and relu activation\n",
    "    \n",
    "    value = dot(args[n_layers-1],hidden_x[n_layers-2][1])[0] #no activation on last layer\n",
    "\n",
    "    def vjp(u):\n",
    "        \n",
    "        list_of_vjp = []\n",
    "\n",
    "        #last layer\n",
    "        vjp_dot_last_layer = dot(args[n_layers-1],hidden_x[n_layers-2][1])[1](u) \n",
    "        vjp_wrt_weights = vjp_dot_last_layer[0] # we keep the 1st vjp, with respect to weights\n",
    "        vjp_wrt_x = vjp_dot_last_layer[1] \n",
    "\n",
    "        list_of_vjp.insert(0,vjp_wrt_weights)\n",
    "        \n",
    "        for layer in range(n_layers-2,0,-1):\n",
    "            vjp_relu_wrt_x = relu(hidden_x[layer][0])[1](vjp_wrt_x)[0] #backward relu\n",
    "            vjp_dot_current_layer = dot(args[layer],hidden_x[layer-1][1])[1](vjp_relu_wrt_x) #backward dot \n",
    "            vjp_wrt_weights = vjp_dot_current_layer[0] #keep weights\n",
    "            vjp_wrt_x = vjp_dot_current_layer[1] \n",
    "\n",
    "            list_of_vjp.insert(0,vjp_wrt_weights)\n",
    "        \n",
    "        #1st layer\n",
    "        vjp_relu_wrt_x = relu(hidden_x[0][0])[1](vjp_wrt_x)[0] #backward relu\n",
    "        vjp_dot_current_layer = dot(args[0],input)[1](vjp_relu_wrt_x) #backward dot \n",
    "        vjp_wrt_weights = vjp_dot_current_layer[0] #keep weights\n",
    "        vjp_wrt_x = vjp_dot_current_layer[1] \n",
    "\n",
    "        list_of_vjp.insert(0,vjp_wrt_weights)\n",
    "        list_of_vjp.insert(0,vjp_wrt_x)\n",
    "\n",
    "        return list_of_vjp\n",
    "\n",
    "    return value, vjp\n",
    "\n",
    "#should be ok: to check\n",
    "def loss_general_MLP(x, y, *args):\n",
    "    \"\"\"\n",
    "    This function defines the loss, by combining previous function squared_loss and mlp2\n",
    "\n",
    "    Args:\n",
    "        x: an array of shape n \n",
    "        y: an array of shape n \n",
    "        *args: matrix of each layer. ATTENTION: dimension should match for dot product\n",
    "        \n",
    "    Returns:\n",
    "        - value of the function loss(x, y, *args)\n",
    "        - function vjp to easily compute vjp of the loss\n",
    "    \"\"\"\n",
    "\n",
    "    y_pred = mlp(x, *args)[0]\n",
    "    value = squared_loss(y_pred, y)[0]\n",
    "\n",
    "    def vjp(u):\n",
    "        \n",
    "        vjp_squared_loss = squared_loss(y_pred, y)[1](u)\n",
    "        vjp_wrt_y = vjp_squared_loss[1] # we keep the vjp with respect to y \n",
    "\n",
    "        vjp_mlp = mlp(x, *args)[1](vjp_squared_loss[0])\n",
    "\n",
    "        list_of_vjp = []\n",
    "        list_of_vjp.append(vjp_mlp[0])# add vjp wrt to x \n",
    "        list_of_vjp.append(vjp_wrt_y)# add vjp wrt to y\n",
    "\n",
    "        list_of_vjp = list_of_vjp + vjp_mlp[1:] #add vjp wrt to weights \n",
    "        \n",
    "        return list_of_vjp\n",
    "\n",
    "    return value, vjp\n",
    "\n"
   ]
  },
  {
   "cell_type": "markdown",
   "metadata": {},
   "source": [
    "### Question 6: implement SGD to train your MLP on a dataset of your choice. Study the impact of depth (number of layers) and width (number of hidden units).\n",
    "\n"
   ]
  },
  {
   "cell_type": "markdown",
   "metadata": {},
   "source": [
    "Let's implement our autodiff on a simple dataset with a neural network using mlp2."
   ]
  },
  {
   "cell_type": "code",
   "execution_count": 97,
   "metadata": {},
   "outputs": [],
   "source": [
    "#Generate dataset with 2 features by row, with same distribution\n",
    "nsamples = 200\n",
    "range_uniform = 5 \n",
    "sigma = 2\n",
    "xtrain, ytrain = generate_dataset(nsamples, range_uniform, sigma)\n",
    "xtest, ytest = generate_dataset(nsamples, range_uniform, sigma)"
   ]
  },
  {
   "cell_type": "code",
   "execution_count": 101,
   "metadata": {},
   "outputs": [
    {
     "data": {
      "image/png": "[encoded data removed]",
      "text/plain": [
       "<Figure size 432x288 with 1 Axes>"
      ]
     },
     "metadata": {
      "needs_background": "light"
     },
     "output_type": "display_data"
    },
    {
     "name": "stdout",
     "output_type": "stream",
     "text": [
      "Minimal training error: 3.126735624024318\n",
      "Minimal test error: 3.2624391480387924\n"
     ]
    }
   ],
   "source": [
    "#test with mlp2\n",
    "learning_rate = 1e-4\n",
    "nepochs = 100\n",
    "\n",
    "input_dim = xtrain.shape[1]\n",
    "hidden_dim_1 = 2\n",
    "hidden_dim_2 = 2\n",
    "\n",
    "\n",
    "#weights initialisation\n",
    "W1 = np.random.normal(loc=0, scale=1./np.sqrt(input_dim),\n",
    "          size=(hidden_dim_1, input_dim))\n",
    "W2 = np.random.normal(loc=0, scale=1./np.sqrt(hidden_dim_1),\n",
    "          size=(hidden_dim_2, hidden_dim_1))\n",
    "\n",
    "training_loss, test_loss = [], []\n",
    "\n",
    "for epoch in range(nepochs):\n",
    "\n",
    "    train_err = []\n",
    "    for n in range(nsamples):\n",
    "        random_index = np.random.randint(nsamples)\n",
    "        loss_train_it = loss(xtrain[random_index], ytrain[random_index], W1, W2)[0]\n",
    "        vector_for_starting_backward = 1 #because we use SGD, if batch would need of vector of len = batch_size\n",
    "        grad_W1 = loss(xtrain[random_index], ytrain[random_index], W1, W2)[1](vector_for_starting_backward)[2]\n",
    "        grad_W2  =  loss(xtrain[random_index], ytrain[random_index], W1, W2)[1](vector_for_starting_backward)[3]\n",
    "        W1 = W1 - learning_rate*grad_W1\n",
    "        W2 = W2 - learning_rate*grad_W2\n",
    "        train_err.append(loss_train_it)\n",
    "\n",
    "    test_err = []\n",
    "    for n in range(nsamples):\n",
    "        random_index = np.random.randint(nsamples)\n",
    "        loss_test_it = loss(xtrain[random_index], ytrain[random_index], W1, W2)[0]\n",
    "        test_err.append(loss_test_it)\n",
    "\n",
    "    training_loss.append(np.array(train_err).mean())\n",
    "    test_loss.append(np.array(test_err).mean())\n",
    "\n",
    "plt.plot(np.array(training_loss), label='training loss')\n",
    "plt.plot(np.array(test_loss), label='test loss')\n",
    "plt.legend()\n",
    "plt.show()\n",
    "\n",
    "print(\"Minimal training error: \" + str(min(training_loss)))\n",
    "print(\"Minimal test error: \" + str(min(test_loss)))"
   ]
  },
  {
   "cell_type": "markdown",
   "metadata": {},
   "source": [
    "The data we generated is simple (linear regression on both coordinates on x to get y), so there is no surprise the mlp2 should be able to figure out \"good\" parameters. This is what we get here, both training loss and test loss goes towards 0 at a geometric rate. Besides, we can observe the stochastic component of SGD on the long trail with small bump and dump. \n",
    "As the dataset is simple, number of neurons is not so important: we achieve results even we 2 neurons per layer.\n",
    "\n",
    "Nevertheless, interestingly the initialisation of weights play a crucial role. Indeed, even on such a simple dataset, a \"bad\" initialisation results in getting SGD stuck at local minima with poor performances. This illustrates the power of NN: they need to be given extra care to be efficient, either trough appropriate weight initialisation or through advanced SGD techniques (momentum, diagonal scalinl,...) or both. "
   ]
  },
  {
   "cell_type": "code",
   "execution_count": 169,
   "metadata": {},
   "outputs": [
    {
     "data": {
      "image/png": "[encoded data removed]",
      "text/plain": [
       "<Figure size 432x288 with 1 Axes>"
      ]
     },
     "metadata": {
      "needs_background": "light"
     },
     "output_type": "display_data"
    },
    {
     "name": "stdout",
     "output_type": "stream",
     "text": [
      "Minimal training error: 8.908245877559143\n",
      "Minimal test error: 8.772514228590094\n"
     ]
    }
   ],
   "source": [
    "#test with mlp general\n",
    "learning_rate = 1e-4\n",
    "nepochs = 100\n",
    "\n",
    "#test with 4 layers\n",
    "input_dim = xtrain.shape[1]\n",
    "hidden_dim_1 = 2\n",
    "hidden_dim_2 = 3\n",
    "hidden_dim_3 = 4\n",
    "hidden_dim_4 = 5\n",
    "\n",
    "\n",
    "#weights initialisation\n",
    "W1 = np.random.normal(loc=0, scale=1./np.sqrt(input_dim),\n",
    "          size=(hidden_dim_1, input_dim))\n",
    "W2 = np.random.normal(loc=0, scale=1./np.sqrt(hidden_dim_1),\n",
    "          size=(hidden_dim_2, hidden_dim_1))\n",
    "W3 = np.random.normal(loc=0, scale=1./np.sqrt(hidden_dim_2),\n",
    "          size=(hidden_dim_3, hidden_dim_2))\n",
    "W4 = np.random.normal(loc=0, scale=1./np.sqrt(hidden_dim_3),\n",
    "          size=(hidden_dim_4, hidden_dim_3))\n",
    "\n",
    "training_loss, test_loss = [], []\n",
    "\n",
    "for epoch in range(nepochs):\n",
    "\n",
    "    train_err = []\n",
    "    for n in range(nsamples):\n",
    "        random_index = np.random.randint(nsamples)\n",
    "        loss_train_it = loss_general_MLP(xtrain[random_index], ytrain[random_index], W1, W2, W3, W4)[0]\n",
    "        vector_for_starting_backward = 1 #because we use SGD, if batch would need of vector of len = batch_size\n",
    "        grad = loss_general_MLP(xtrain[random_index], ytrain[random_index], W1, W2,  W3, W4)[1](vector_for_starting_backward)\n",
    "        grad_W1 = grad[2]\n",
    "        grad_W2  =  grad[3]\n",
    "        grad_W3 = grad[4]\n",
    "        grad_W4  =  grad[5]\n",
    "        W1 = W1 - learning_rate*grad_W1\n",
    "        W2 = W2 - learning_rate*grad_W2\n",
    "        W3 = W3 - learning_rate*grad_W3\n",
    "        W4 = W4 - learning_rate*grad_W4\n",
    "\n",
    "        train_err.append(loss_train_it)\n",
    "\n",
    "    test_err = []\n",
    "    for n in range(nsamples):\n",
    "        random_index = np.random.randint(nsamples)\n",
    "        loss_test_it = loss_general_MLP(xtrain[random_index], ytrain[random_index], W1, W2, W3, W4)[0]\n",
    "        test_err.append(loss_test_it)\n",
    "\n",
    "    training_loss.append(np.array(train_err).mean())\n",
    "    test_loss.append(np.array(test_err).mean())\n",
    "\n",
    "plt.plot(np.array(training_loss), label='training loss')\n",
    "plt.plot(np.array(test_loss), label='test loss')\n",
    "plt.legend()\n",
    "plt.show()\n",
    "\n",
    "print(\"Minimal training error: \" + str(min(training_loss)))\n",
    "print(\"Minimal test error: \" + str(min(test_loss)))"
   ]
  },
  {
   "cell_type": "markdown",
   "metadata": {},
   "source": [
    "For our dataset the number of layers shouldn't be too high. Indeed, the more complex the nework is the higer the risk it get stucks in local minima."
   ]
  }
 ],
 "metadata": {
  "kernelspec": {
   "display_name": "Python 3.9.12 ('base')",
   "language": "python",
   "name": "python3"
  },
  "language_info": {
   "codemirror_mode": {
    "name": "ipython",
    "version": 3
   },
   "file_extension": ".py",
   "mimetype": "text/x-python",
   "name": "python",
   "nbconvert_exporter": "python",
   "pygments_lexer": "ipython3",
   "version": "3.9.12"
  },
  "orig_nbformat": 4,
  "vscode": {
   "interpreter": {
    "hash": "965fe59137d5334f034bf4d21dcfaab0895405927d7ec8dd4d8796ddf51dcb72"
   }
  }
 },
 "nbformat": 4,
 "nbformat_minor": 2
}
