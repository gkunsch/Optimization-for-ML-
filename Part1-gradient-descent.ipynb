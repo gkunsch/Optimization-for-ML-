{
 "cells": [
  {
   "cell_type": "markdown",
   "metadata": {},
   "source": [
    "# Part 1: Gradient Descent"
   ]
  },
  {
   "cell_type": "code",
   "execution_count": 2,
   "metadata": {},
   "outputs": [],
   "source": [
    "import numpy as np # linear algebra\n",
    "import pandas as pd #dataframe library\n",
    "import sklearn # machine learning library\n",
    "assert sklearn.__version__ >= '0.2'\n",
    "from sklearn import datasets\n",
    "import random\n",
    "np.random.seed(seed=42) # to have same results each time\n",
    "%matplotlib inline\n",
    "import matplotlib as mpl\n",
    "import matplotlib.pyplot as plt\n",
    "mpl.rc('axes', labelsize=14)\n",
    "mpl.rc('xtick', labelsize=12)\n",
    "mpl.rc('ytick', labelsize=12)"
   ]
  },
  {
   "cell_type": "markdown",
   "metadata": {},
   "source": [
    "### Question 1: Load an original dataset, comment on this dataset (what are the features, the dimensions of the problem, how does the correlation matrix looks like)"
   ]
  },
  {
   "cell_type": "markdown",
   "metadata": {},
   "source": [
    "First we import the dataset \"California housing\" retrieved from Scikit-learn, and take a brief look at the data before separating in two sets: a training and a test set.\n",
    "\n",
    "The dataset is composed of 8 numeric features: \n",
    "- MedInc: median income in block group\n",
    "- HouseAge: median house age in block group\n",
    "- AveRooms: average number of rooms per household\n",
    "- AveBedrms: average number of bedrooms per household\n",
    "- Population: block group population\n",
    "- AveOccup: average number of household members\n",
    "- Latitude: block group latitude\n",
    "- Longitude: block group longitude\n",
    "\n",
    "And the target value, numeric as well:\n",
    "- MedHouseVal: median house value expressed in $100,000."
   ]
  },
  {
   "cell_type": "code",
   "execution_count": 3,
   "metadata": {},
   "outputs": [
    {
     "data": {
      "text/html": [
       "<div>\n",
       "<style scoped>\n",
       "    .dataframe tbody tr th:only-of-type {\n",
       "        vertical-align: middle;\n",
       "    }\n",
       "\n",
       "    .dataframe tbody tr th {\n",
       "        vertical-align: top;\n",
       "    }\n",
       "\n",
       "    .dataframe thead th {\n",
       "        text-align: right;\n",
       "    }\n",
       "</style>\n",
       "<table border=\"1\" class=\"dataframe\">\n",
       "  <thead>\n",
       "    <tr style=\"text-align: right;\">\n",
       "      <th></th>\n",
       "      <th>MedInc</th>\n",
       "      <th>HouseAge</th>\n",
       "      <th>AveRooms</th>\n",
       "      <th>AveBedrms</th>\n",
       "      <th>Population</th>\n",
       "      <th>AveOccup</th>\n",
       "      <th>Latitude</th>\n",
       "      <th>Longitude</th>\n",
       "      <th>MedHouseVal</th>\n",
       "    </tr>\n",
       "  </thead>\n",
       "  <tbody>\n",
       "    <tr>\n",
       "      <th>0</th>\n",
       "      <td>8.3252</td>\n",
       "      <td>41.0</td>\n",
       "      <td>6.984127</td>\n",
       "      <td>1.023810</td>\n",
       "      <td>322.0</td>\n",
       "      <td>2.555556</td>\n",
       "      <td>37.88</td>\n",
       "      <td>-122.23</td>\n",
       "      <td>4.526</td>\n",
       "    </tr>\n",
       "    <tr>\n",
       "      <th>1</th>\n",
       "      <td>8.3014</td>\n",
       "      <td>21.0</td>\n",
       "      <td>6.238137</td>\n",
       "      <td>0.971880</td>\n",
       "      <td>2401.0</td>\n",
       "      <td>2.109842</td>\n",
       "      <td>37.86</td>\n",
       "      <td>-122.22</td>\n",
       "      <td>3.585</td>\n",
       "    </tr>\n",
       "    <tr>\n",
       "      <th>2</th>\n",
       "      <td>7.2574</td>\n",
       "      <td>52.0</td>\n",
       "      <td>8.288136</td>\n",
       "      <td>1.073446</td>\n",
       "      <td>496.0</td>\n",
       "      <td>2.802260</td>\n",
       "      <td>37.85</td>\n",
       "      <td>-122.24</td>\n",
       "      <td>3.521</td>\n",
       "    </tr>\n",
       "    <tr>\n",
       "      <th>3</th>\n",
       "      <td>5.6431</td>\n",
       "      <td>52.0</td>\n",
       "      <td>5.817352</td>\n",
       "      <td>1.073059</td>\n",
       "      <td>558.0</td>\n",
       "      <td>2.547945</td>\n",
       "      <td>37.85</td>\n",
       "      <td>-122.25</td>\n",
       "      <td>3.413</td>\n",
       "    </tr>\n",
       "    <tr>\n",
       "      <th>4</th>\n",
       "      <td>3.8462</td>\n",
       "      <td>52.0</td>\n",
       "      <td>6.281853</td>\n",
       "      <td>1.081081</td>\n",
       "      <td>565.0</td>\n",
       "      <td>2.181467</td>\n",
       "      <td>37.85</td>\n",
       "      <td>-122.25</td>\n",
       "      <td>3.422</td>\n",
       "    </tr>\n",
       "  </tbody>\n",
       "</table>\n",
       "</div>"
      ],
      "text/plain": [
       "   MedInc  HouseAge  AveRooms  AveBedrms  Population  AveOccup  Latitude  \\\n",
       "0  8.3252      41.0  6.984127   1.023810       322.0  2.555556     37.88   \n",
       "1  8.3014      21.0  6.238137   0.971880      2401.0  2.109842     37.86   \n",
       "2  7.2574      52.0  8.288136   1.073446       496.0  2.802260     37.85   \n",
       "3  5.6431      52.0  5.817352   1.073059       558.0  2.547945     37.85   \n",
       "4  3.8462      52.0  6.281853   1.081081       565.0  2.181467     37.85   \n",
       "\n",
       "   Longitude  MedHouseVal  \n",
       "0    -122.23        4.526  \n",
       "1    -122.22        3.585  \n",
       "2    -122.24        3.521  \n",
       "3    -122.25        3.413  \n",
       "4    -122.25        3.422  "
      ]
     },
     "execution_count": 3,
     "metadata": {},
     "output_type": "execute_result"
    }
   ],
   "source": [
    "#we use pandas for taking a first look at the data\n",
    "dataset_panda = sklearn.datasets.fetch_california_housing(data_home=None, download_if_missing=True, return_X_y=False, as_frame=True)\n",
    "dataset_panda['frame'].head()"
   ]
  },
  {
   "cell_type": "markdown",
   "metadata": {},
   "source": [
    "Dataset is composed of 20,640 entries and is compelete (non-missing values). As it only acconts for 1.4 MB, memory usage shouldn't be an issue."
   ]
  },
  {
   "cell_type": "code",
   "execution_count": 4,
   "metadata": {},
   "outputs": [
    {
     "name": "stdout",
     "output_type": "stream",
     "text": [
      "<class 'pandas.core.frame.DataFrame'>\n",
      "RangeIndex: 20640 entries, 0 to 20639\n",
      "Data columns (total 9 columns):\n",
      " #   Column       Non-Null Count  Dtype  \n",
      "---  ------       --------------  -----  \n",
      " 0   MedInc       20640 non-null  float64\n",
      " 1   HouseAge     20640 non-null  float64\n",
      " 2   AveRooms     20640 non-null  float64\n",
      " 3   AveBedrms    20640 non-null  float64\n",
      " 4   Population   20640 non-null  float64\n",
      " 5   AveOccup     20640 non-null  float64\n",
      " 6   Latitude     20640 non-null  float64\n",
      " 7   Longitude    20640 non-null  float64\n",
      " 8   MedHouseVal  20640 non-null  float64\n",
      "dtypes: float64(9)\n",
      "memory usage: 1.4 MB\n"
     ]
    }
   ],
   "source": [
    "dataset_panda['frame'].info()"
   ]
  },
  {
   "cell_type": "markdown",
   "metadata": {},
   "source": [
    "The matrix is symetric as expected, with 1 on the diagonal.  It appears MedHouseVal is mosty correlated with MedInc in a positive manner, so this feature should play the most important role in prediction. The higher MedInc the higher MedHouseVal on the whole dataset."
   ]
  },
  {
   "cell_type": "code",
   "execution_count": 5,
   "metadata": {},
   "outputs": [
    {
     "data": {
      "text/html": [
       "<div>\n",
       "<style scoped>\n",
       "    .dataframe tbody tr th:only-of-type {\n",
       "        vertical-align: middle;\n",
       "    }\n",
       "\n",
       "    .dataframe tbody tr th {\n",
       "        vertical-align: top;\n",
       "    }\n",
       "\n",
       "    .dataframe thead th {\n",
       "        text-align: right;\n",
       "    }\n",
       "</style>\n",
       "<table border=\"1\" class=\"dataframe\">\n",
       "  <thead>\n",
       "    <tr style=\"text-align: right;\">\n",
       "      <th></th>\n",
       "      <th>MedInc</th>\n",
       "      <th>HouseAge</th>\n",
       "      <th>AveRooms</th>\n",
       "      <th>AveBedrms</th>\n",
       "      <th>Population</th>\n",
       "      <th>AveOccup</th>\n",
       "      <th>Latitude</th>\n",
       "      <th>Longitude</th>\n",
       "      <th>MedHouseVal</th>\n",
       "    </tr>\n",
       "  </thead>\n",
       "  <tbody>\n",
       "    <tr>\n",
       "      <th>MedInc</th>\n",
       "      <td>1.000000</td>\n",
       "      <td>-0.119034</td>\n",
       "      <td>0.326895</td>\n",
       "      <td>-0.062040</td>\n",
       "      <td>0.004834</td>\n",
       "      <td>0.018766</td>\n",
       "      <td>-0.079809</td>\n",
       "      <td>-0.015176</td>\n",
       "      <td>0.688075</td>\n",
       "    </tr>\n",
       "    <tr>\n",
       "      <th>HouseAge</th>\n",
       "      <td>-0.119034</td>\n",
       "      <td>1.000000</td>\n",
       "      <td>-0.153277</td>\n",
       "      <td>-0.077747</td>\n",
       "      <td>-0.296244</td>\n",
       "      <td>0.013191</td>\n",
       "      <td>0.011173</td>\n",
       "      <td>-0.108197</td>\n",
       "      <td>0.105623</td>\n",
       "    </tr>\n",
       "    <tr>\n",
       "      <th>AveRooms</th>\n",
       "      <td>0.326895</td>\n",
       "      <td>-0.153277</td>\n",
       "      <td>1.000000</td>\n",
       "      <td>0.847621</td>\n",
       "      <td>-0.072213</td>\n",
       "      <td>-0.004852</td>\n",
       "      <td>0.106389</td>\n",
       "      <td>-0.027540</td>\n",
       "      <td>0.151948</td>\n",
       "    </tr>\n",
       "    <tr>\n",
       "      <th>AveBedrms</th>\n",
       "      <td>-0.062040</td>\n",
       "      <td>-0.077747</td>\n",
       "      <td>0.847621</td>\n",
       "      <td>1.000000</td>\n",
       "      <td>-0.066197</td>\n",
       "      <td>-0.006181</td>\n",
       "      <td>0.069721</td>\n",
       "      <td>0.013344</td>\n",
       "      <td>-0.046701</td>\n",
       "    </tr>\n",
       "    <tr>\n",
       "      <th>Population</th>\n",
       "      <td>0.004834</td>\n",
       "      <td>-0.296244</td>\n",
       "      <td>-0.072213</td>\n",
       "      <td>-0.066197</td>\n",
       "      <td>1.000000</td>\n",
       "      <td>0.069863</td>\n",
       "      <td>-0.108785</td>\n",
       "      <td>0.099773</td>\n",
       "      <td>-0.024650</td>\n",
       "    </tr>\n",
       "    <tr>\n",
       "      <th>AveOccup</th>\n",
       "      <td>0.018766</td>\n",
       "      <td>0.013191</td>\n",
       "      <td>-0.004852</td>\n",
       "      <td>-0.006181</td>\n",
       "      <td>0.069863</td>\n",
       "      <td>1.000000</td>\n",
       "      <td>0.002366</td>\n",
       "      <td>0.002476</td>\n",
       "      <td>-0.023737</td>\n",
       "    </tr>\n",
       "    <tr>\n",
       "      <th>Latitude</th>\n",
       "      <td>-0.079809</td>\n",
       "      <td>0.011173</td>\n",
       "      <td>0.106389</td>\n",
       "      <td>0.069721</td>\n",
       "      <td>-0.108785</td>\n",
       "      <td>0.002366</td>\n",
       "      <td>1.000000</td>\n",
       "      <td>-0.924664</td>\n",
       "      <td>-0.144160</td>\n",
       "    </tr>\n",
       "    <tr>\n",
       "      <th>Longitude</th>\n",
       "      <td>-0.015176</td>\n",
       "      <td>-0.108197</td>\n",
       "      <td>-0.027540</td>\n",
       "      <td>0.013344</td>\n",
       "      <td>0.099773</td>\n",
       "      <td>0.002476</td>\n",
       "      <td>-0.924664</td>\n",
       "      <td>1.000000</td>\n",
       "      <td>-0.045967</td>\n",
       "    </tr>\n",
       "    <tr>\n",
       "      <th>MedHouseVal</th>\n",
       "      <td>0.688075</td>\n",
       "      <td>0.105623</td>\n",
       "      <td>0.151948</td>\n",
       "      <td>-0.046701</td>\n",
       "      <td>-0.024650</td>\n",
       "      <td>-0.023737</td>\n",
       "      <td>-0.144160</td>\n",
       "      <td>-0.045967</td>\n",
       "      <td>1.000000</td>\n",
       "    </tr>\n",
       "  </tbody>\n",
       "</table>\n",
       "</div>"
      ],
      "text/plain": [
       "               MedInc  HouseAge  AveRooms  AveBedrms  Population  AveOccup  \\\n",
       "MedInc       1.000000 -0.119034  0.326895  -0.062040    0.004834  0.018766   \n",
       "HouseAge    -0.119034  1.000000 -0.153277  -0.077747   -0.296244  0.013191   \n",
       "AveRooms     0.326895 -0.153277  1.000000   0.847621   -0.072213 -0.004852   \n",
       "AveBedrms   -0.062040 -0.077747  0.847621   1.000000   -0.066197 -0.006181   \n",
       "Population   0.004834 -0.296244 -0.072213  -0.066197    1.000000  0.069863   \n",
       "AveOccup     0.018766  0.013191 -0.004852  -0.006181    0.069863  1.000000   \n",
       "Latitude    -0.079809  0.011173  0.106389   0.069721   -0.108785  0.002366   \n",
       "Longitude   -0.015176 -0.108197 -0.027540   0.013344    0.099773  0.002476   \n",
       "MedHouseVal  0.688075  0.105623  0.151948  -0.046701   -0.024650 -0.023737   \n",
       "\n",
       "             Latitude  Longitude  MedHouseVal  \n",
       "MedInc      -0.079809  -0.015176     0.688075  \n",
       "HouseAge     0.011173  -0.108197     0.105623  \n",
       "AveRooms     0.106389  -0.027540     0.151948  \n",
       "AveBedrms    0.069721   0.013344    -0.046701  \n",
       "Population  -0.108785   0.099773    -0.024650  \n",
       "AveOccup     0.002366   0.002476    -0.023737  \n",
       "Latitude     1.000000  -0.924664    -0.144160  \n",
       "Longitude   -0.924664   1.000000    -0.045967  \n",
       "MedHouseVal -0.144160  -0.045967     1.000000  "
      ]
     },
     "execution_count": 5,
     "metadata": {},
     "output_type": "execute_result"
    }
   ],
   "source": [
    "corr_matrix = dataset_panda['frame'].corr()\n",
    "corr_matrix\n"
   ]
  },
  {
   "cell_type": "markdown",
   "metadata": {},
   "source": [
    "### Question 2: Implement gradient descent for regression (l2 loss) or classification (logistic loss) with a small ridge penalty. Display the convergence rate on the training loss for several fixed step sizes. "
   ]
  },
  {
   "cell_type": "markdown",
   "metadata": {},
   "source": [
    "Now let's switch to numpy for our numerical analysis."
   ]
  },
  {
   "cell_type": "code",
   "execution_count": 6,
   "metadata": {},
   "outputs": [],
   "source": [
    "dataset = sklearn.datasets.fetch_california_housing(data_home=None, download_if_missing=True, return_X_y=False, as_frame=False)\n",
    "A = dataset['data']\n",
    "Y = dataset['target']"
   ]
  },
  {
   "cell_type": "code",
   "execution_count": 7,
   "metadata": {},
   "outputs": [],
   "source": [
    "def unison_shuffled_copies(a, b):\n",
    "    '''\n",
    "    Returns a similar permutation between arrays a,b\n",
    "    '''\n",
    "    assert len(a) == len(b)\n",
    "    p = np.random.permutation(len(a))\n",
    "    return a[p], b[p]\n",
    "\n",
    "A_shuffled, Y_shuffled = unison_shuffled_copies(A, Y)"
   ]
  },
  {
   "cell_type": "code",
   "execution_count": 8,
   "metadata": {},
   "outputs": [],
   "source": [
    "TRAINING_RATIO = 0.75\n",
    "\n",
    "N = len(Y_shuffled) #numbers of rows\n",
    "D = len(A_shuffled[0,:]) #number of features\n",
    "N_TRAIN = int(TRAINING_RATIO*N) # number of rows in the training set\n",
    "N_TEST = N - N_TRAIN # number of rows in the test set\n",
    "\n",
    "A_train = A_shuffled[:N_TRAIN,:]\n",
    "Y_train = Y_shuffled[:N_TRAIN]\n",
    "\n",
    "A_test = A_shuffled[N_TRAIN:,:]\n",
    "Y_test = Y_shuffled[N_TRAIN:]\n",
    "\n",
    "#we will normalize our data as well to better performance (less anisotropy, so the Gradient descent sould be faster)\n",
    "mean = A_train.mean(axis=0)\n",
    "std = A_train.std(axis=0)\n",
    "A_train = (A_train-mean)/std\n"
   ]
  },
  {
   "cell_type": "markdown",
   "metadata": {},
   "source": [
    "Now we can implement the linear regression model. As N>>D, the model is overdetermined so we are sure to find a solution using Gradient Descent. In fact, here we use a regularized ridge model so our function to minimize will be strictly convex and we have a unique solution: we will reach it using GD and compare it with the closed form solution."
   ]
  },
  {
   "cell_type": "markdown",
   "metadata": {},
   "source": [
    "Regularization is obtained by introducing a penalty. It is often called ridge regression, and is defined as $$ \\min_{x} \\lVert Ax-y \\rVert  ^2+\\lambda \\lVert x \\rVert^2$$ with $\\lambda$ > 0 the regularization parameter.\n",
    "\n",
    "The solution is given using the following equivalent formula $$ x = (A^\\top A + \\lambda \\text{Id}_p )^{-1} A^\\top y $$ \n"
   ]
  },
  {
   "cell_type": "code",
   "execution_count": 9,
   "metadata": {},
   "outputs": [],
   "source": [
    "def gradient_descent(nb_of_iterations, step_size, ridge_parameter, add_bias):\n",
    "    '''\n",
    "    Perform GD on the whole dataset and return the plot of the training loss with respect to the number of iterations\n",
    "    '''\n",
    "\n",
    "    if add_bias == True :\n",
    "         #We initialize x (parameters of the model)\n",
    "        x = np.random.rand(D+1) #because x takes in account a bias\n",
    "\n",
    "        one_vector_train = np.ones(N_TRAIN)\n",
    "        A_train_b = np.column_stack((one_vector_train, A_train))\n",
    "\n",
    "        loss_function_array= []\n",
    "        iteration = []\n",
    "\n",
    "        for i in range(nb_of_iterations): \n",
    "            iteration.append(i)\n",
    "\n",
    "            loss_function_train = (1/N_TRAIN)*np.linalg.norm(np.dot(A_train_b,x)-Y_train)**2 + (1/N_TRAIN)*ridge_parameter*x.transpose().dot(x)\n",
    "            loss_function_array.append(loss_function_train)\n",
    "\n",
    "            grad = (2/N_TRAIN)*A_train_b.T.dot(np.dot(A_train_b,x)-Y_train) + 2*ridge_parameter*x\n",
    "            x = x - step_size*grad\n",
    "\n",
    "    else:\n",
    "         #We initialize x (parameters of the model)\n",
    "        x = np.random.rand(D) #because x takes in account no bias\n",
    "\n",
    "        loss_function_array= []\n",
    "        iteration = []\n",
    "\n",
    "        for i in range(nb_of_iterations): \n",
    "            iteration.append(i)\n",
    "\n",
    "            loss_function_train = (1/N_TRAIN)*np.linalg.norm(np.dot(A_train,x)-Y_train)**2 + (1/N_TRAIN)*ridge_parameter*x.transpose().dot(x)\n",
    "            loss_function_array.append(loss_function_train)\n",
    "\n",
    "            grad = (2/N_TRAIN)*A_train.T.dot(np.dot(A_train,x)-Y_train)+(2/N_TRAIN)*ridge_parameter*x\n",
    "            x = x - step_size*grad\n",
    "        \n",
    "    \n",
    "    return iteration, loss_function_array"
   ]
  },
  {
   "cell_type": "code",
   "execution_count": 10,
   "metadata": {},
   "outputs": [
    {
     "data": {
      "image/png": "[encoded data removed]",
      "text/plain": [
       "<Figure size 432x288 with 1 Axes>"
      ]
     },
     "metadata": {
      "needs_background": "light"
     },
     "output_type": "display_data"
    },
    {
     "data": {
      "image/png": "[encoded data removed]",
      "text/plain": [
       "<Figure size 432x288 with 1 Axes>"
      ]
     },
     "metadata": {
      "needs_background": "light"
     },
     "output_type": "display_data"
    }
   ],
   "source": [
    "iteration, loss_function_array = gradient_descent(nb_of_iterations = 1000, step_size = 0.1,ridge_parameter = 0.2, add_bias= True)\n",
    "plt.plot(iteration, loss_function_array)   \n",
    "plt.xlabel(\"iteration\", rotation=0, fontsize=18)\n",
    "plt.ylabel(\"loss function\", rotation=90, fontsize=18)\n",
    "plt.show()\n",
    "\n",
    "iteration, loss_function_array = gradient_descent(nb_of_iterations = 1000, step_size = 0.1,ridge_parameter = 0.2, add_bias= False)\n",
    "plt.plot(iteration, loss_function_array)   \n",
    "plt.xlabel(\"iteration\", rotation=0, fontsize=18)\n",
    "plt.ylabel(\"loss function\", rotation=90, fontsize=18)\n",
    "plt.show()\n"
   ]
  },
  {
   "cell_type": "markdown",
   "metadata": {},
   "source": [
    "From previous results, we can conclude that addings a bias allow to reach more accuracy (loss closer to 0), that seems reasonabale as it is equivalent to adding a constant (and turn a linear function in a affine function). For sake of simplicity, we will stick to the linear model.\n",
    "For a step size too high (in our case 1), the GD method diverges towards infinity.\n",
    "\n",
    "Below, we provide convergence rate for various step sizes."
   ]
  },
  {
   "cell_type": "code",
   "execution_count": 25,
   "metadata": {},
   "outputs": [
    {
     "data": {
      "image/png": "[encoded data removed]",
      "text/plain": [
       "<Figure size 432x288 with 1 Axes>"
      ]
     },
     "metadata": {
      "needs_background": "light"
     },
     "output_type": "display_data"
    }
   ],
   "source": [
    "niter = 1000\n",
    "ridge_parameter = 0.2\n",
    "flist = np.zeros((niter,1))\n",
    "\n",
    "step_size_mult = [0.001,0.01,0.1,0.4,0.45]\n",
    "\n",
    "xopt = np.linalg.solve( A_train.transpose().dot(A_train) + ridge_parameter*np.eye(D), A_train.transpose().dot(Y_train) )\n",
    "plt.clf\n",
    "\n",
    "fig, ax  = plt.subplots(1, 1)\n",
    "\n",
    "for istep in np.arange(0,5):\n",
    "    step_size = step_size_mult[istep]\n",
    "\n",
    "    x = np.random.rand(D) #because x takes in account no bias\n",
    "    for i in np.arange(0,niter):\n",
    "        flist[i] = (1/N_TRAIN)*np.linalg.norm(np.dot(A_train,x)-Y_train)**2 + (1/N_TRAIN)*ridge_parameter*x.transpose().dot(x)\n",
    "        grad = (2/N_TRAIN)*A_train.T.dot(np.dot(A_train,x)-Y_train)+(2/N_TRAIN)*ridge_parameter*x\n",
    "        x = x - step_size*grad\n",
    "    #plt.subplot(2,1,2)\n",
    "    e = np.log10( flist - (1/N_TRAIN)*np.linalg.norm(np.dot(A_train,xopt)-Y_train)**2 + (1/N_TRAIN)*ridge_parameter*xopt.transpose().dot(xopt) +1e-20)\n",
    "    ax.plot(e-e[0], label=str(step_size_mult[istep]))\n",
    "    ax.axis('tight')\n",
    "    leg = ax.legend()\n",
    "    #ax2.legend( str( tau_mult[itau] ) )\n",
    "    plt.title('log scale')"
   ]
  },
  {
   "cell_type": "markdown",
   "metadata": {},
   "source": [
    "The empirical optimal step size seems to be around 0.4."
   ]
  },
  {
   "cell_type": "markdown",
   "metadata": {},
   "source": [
    "### Question 3: What is the optimal step choice ? How does this compare with the theory ?"
   ]
  },
  {
   "cell_type": "markdown",
   "metadata": {},
   "source": [
    "From the theory we can compute the optimal step size. It is different from the theoritical one. WHY ? "
   ]
  },
  {
   "cell_type": "code",
   "execution_count": 13,
   "metadata": {},
   "outputs": [
    {
     "name": "stdout",
     "output_type": "stream",
     "text": [
      "The optimal step size is 6.258541923348254e-05\n"
     ]
    }
   ],
   "source": [
    "\n",
    "#TO DO: CHECK\n",
    "# doesn't seem to work, don't relate to what we have in practice\n",
    "\n",
    "C = A_train.T.dot(A_train)\n",
    "step_size_optimal = 2/(np.linalg.norm(C,2) + np.linalg.norm(C,-2)) # we use a power 2 to get the eigenvalue and not the singular value\n",
    "print(f\"The optimal step size is {step_size_optimal}\")\n"
   ]
  },
  {
   "cell_type": "markdown",
   "metadata": {},
   "source": [
    "### Question 4: Show the regression performance on the test set as the ridge penalty changes. "
   ]
  },
  {
   "cell_type": "markdown",
   "metadata": {},
   "source": [
    "we keep the same step size, and we will just modify the ridge parameter."
   ]
  },
  {
   "cell_type": "code",
   "execution_count": 31,
   "metadata": {},
   "outputs": [
    {
     "name": "stderr",
     "output_type": "stream",
     "text": [
      "/var/folders/80/bk7d07yj72jcsh655bmmdmmr0000gn/T/ipykernel_41904/1634058331.py:20: RuntimeWarning: invalid value encountered in log10\n",
      "  e = np.log10( flist - (1/N_TRAIN)*np.linalg.norm(np.dot(A_test,xopt)-Y_test)**2 +1e-20)\n",
      "/var/folders/80/bk7d07yj72jcsh655bmmdmmr0000gn/T/ipykernel_41904/1634058331.py:20: RuntimeWarning: invalid value encountered in log10\n",
      "  e = np.log10( flist - (1/N_TRAIN)*np.linalg.norm(np.dot(A_test,xopt)-Y_test)**2 +1e-20)\n",
      "/var/folders/80/bk7d07yj72jcsh655bmmdmmr0000gn/T/ipykernel_41904/1634058331.py:20: RuntimeWarning: invalid value encountered in log10\n",
      "  e = np.log10( flist - (1/N_TRAIN)*np.linalg.norm(np.dot(A_test,xopt)-Y_test)**2 +1e-20)\n",
      "/var/folders/80/bk7d07yj72jcsh655bmmdmmr0000gn/T/ipykernel_41904/1634058331.py:20: RuntimeWarning: invalid value encountered in log10\n",
      "  e = np.log10( flist - (1/N_TRAIN)*np.linalg.norm(np.dot(A_test,xopt)-Y_test)**2 +1e-20)\n",
      "/var/folders/80/bk7d07yj72jcsh655bmmdmmr0000gn/T/ipykernel_41904/1634058331.py:20: RuntimeWarning: invalid value encountered in log10\n",
      "  e = np.log10( flist - (1/N_TRAIN)*np.linalg.norm(np.dot(A_test,xopt)-Y_test)**2 +1e-20)\n"
     ]
    },
    {
     "data": {
      "image/png": "[encoded data removed]",
      "text/plain": [
       "<Figure size 432x288 with 1 Axes>"
      ]
     },
     "metadata": {
      "needs_background": "light"
     },
     "output_type": "display_data"
    }
   ],
   "source": [
    "#TO DO: CHECK \n",
    "# what to show ? \n",
    "\n",
    "niter = 500\n",
    "step_size = 0.1\n",
    "flist = np.zeros((niter,1))\n",
    "\n",
    "ridge_param_mult = [0,0.2,1,5,10]\n",
    "plt.clf\n",
    "\n",
    "fig, ax  = plt.subplots(1, 1)\n",
    "\n",
    "for i_ridge_param in np.arange(0,5):\n",
    "    ridge_param = ridge_param_mult[i_ridge_param]\n",
    "    xopt = np.linalg.solve( A_train.transpose().dot(A_train) + ridge_param*np.eye(D), A_train.transpose().dot(Y_train) )\n",
    "    x = np.random.rand(D) #because x takes in account no bias\n",
    "    for i in np.arange(0,niter):\n",
    "        flist[i] = (1/N_TRAIN)*np.linalg.norm(np.dot(A_test,x)-Y_test)**2\n",
    "        grad = (2/N_TRAIN)*A_train.T.dot(np.dot(A_train,x)-Y_train)+(2/N_TRAIN)*ridge_param*x\n",
    "        x = x - step_size*grad\n",
    "    #plt.subplot(2,1,2)\n",
    "    \n",
    "    e = np.log10( flist - (1/N_TRAIN)*np.linalg.norm(np.dot(A_test,xopt)-Y_test)**2 +1e-20)\n",
    "    ax.plot(e-e[0], label=str(ridge_param_mult[i_ridge_param]))\n",
    "    ax.axis('tight')\n",
    "    leg = ax.legend()\n",
    "    #ax2.legend( str( tau_mult[itau] ) )\n",
    "    plt.title('log scale')\n"
   ]
  },
  {
   "cell_type": "code",
   "execution_count": null,
   "metadata": {},
   "outputs": [],
   "source": []
  }
 ],
 "metadata": {
  "kernelspec": {
   "display_name": "Python 3.9.12 ('base')",
   "language": "python",
   "name": "python3"
  },
  "language_info": {
   "codemirror_mode": {
    "name": "ipython",
    "version": 3
   },
   "file_extension": ".py",
   "mimetype": "text/x-python",
   "name": "python",
   "nbconvert_exporter": "python",
   "pygments_lexer": "ipython3",
   "version": "3.9.12"
  },
  "orig_nbformat": 4,
  "vscode": {
   "interpreter": {
    "hash": "965fe59137d5334f034bf4d21dcfaab0895405927d7ec8dd4d8796ddf51dcb72"
   }
  }
 },
 "nbformat": 4,
 "nbformat_minor": 2
}
